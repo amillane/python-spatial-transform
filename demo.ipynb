{
 "cells": [
  {
   "cell_type": "code",
   "execution_count": 2,
   "metadata": {},
   "outputs": [],
   "source": [
    "import numpy as np\n",
    "import pandas as pd\n",
    "from SpatialTransform import SpatialTransformer\n",
    "from sklearn.ensemble import RandomForestRegressor\n",
    "from sklearn.metrics import mean_squared_error\n",
    "from sklearn.model_selection import GridSearchCV\n",
    "\n",
    "#loading in data\n",
    "df = pd.read_csv('Grace_Variables.csv')\n",
    "\n",
    "\n",
    "columns_to_keep = [\"2014 Yield\", \"2016 Yield\",\n",
    "                  \"Deep EC\", \"Shallow EC\", \"Elevation\", \"Slope\",\n",
    "                  \"(aSM-wp)/(fc-wp)\",\"Log10_Yld16\",\n",
    "                  \"2017 Spring SM\", 'X', 'Y']\n",
    "\n",
    "\n",
    "columns_to_drop = [col for col in df.columns if col not in columns_to_keep]\n",
    "new_column_names = {\"2014 Yield\": \"Yld2014\", \"2016 Yield\": \"Yld2016\", \"Deep EC\": \"DeepEC\", \"Shallow EC\": \"ShallowEC\", \"(aSM-wp)/(fc-wp)\": \"WaterPotential\", \"2017 Spring SM\": \"y\"}\n",
    "       \n",
    "\n",
    "df = df.drop(columns=columns_to_drop)\n",
    "df = df.rename(columns=new_column_names)\n",
    "\n",
    "#Split dataframe into traning and testing data\n",
    "trainData = df.sample(frac=0.8, random_state=200)\n",
    "testData = df.drop(trainData.index)\n",
    "\n",
    "#Location arrays\n",
    "trainLocs = trainData[['X','Y']].values\n",
    "testLocs = testData[['X','Y']].values\n",
    "\n",
    "# # #dropping longitude and latitude from the dataframe\n",
    "trainData = trainData.drop(columns=['X', 'Y'])\n",
    "testData = testData.drop(columns=['X', 'Y'])"
   ]
  },
  {
   "cell_type": "code",
   "execution_count": 7,
   "metadata": {},
   "outputs": [],
   "source": [
    "transformer = SpatialTransformer()\n",
    "\n",
    "IndData = transformer.transform_to_ind(\"y\", \n",
    "                             trainData=trainData, \n",
    "                             testData=testData, \n",
    "                             testLocs=testLocs, \n",
    "                             trainLocs=trainLocs, \n",
    "                             smoothness = 0.5, \n",
    "                             range_param = 51.9685, \n",
    "                             nugget = 0.01, \n",
    "                             M=30, \n",
    "                             ncores = 1)"
   ]
  },
  {
   "cell_type": "code",
   "execution_count": 8,
   "metadata": {},
   "outputs": [
    {
     "data": {
      "text/html": [
       "<style>#sk-container-id-1 {color: black;background-color: white;}#sk-container-id-1 pre{padding: 0;}#sk-container-id-1 div.sk-toggleable {background-color: white;}#sk-container-id-1 label.sk-toggleable__label {cursor: pointer;display: block;width: 100%;margin-bottom: 0;padding: 0.3em;box-sizing: border-box;text-align: center;}#sk-container-id-1 label.sk-toggleable__label-arrow:before {content: \"▸\";float: left;margin-right: 0.25em;color: #696969;}#sk-container-id-1 label.sk-toggleable__label-arrow:hover:before {color: black;}#sk-container-id-1 div.sk-estimator:hover label.sk-toggleable__label-arrow:before {color: black;}#sk-container-id-1 div.sk-toggleable__content {max-height: 0;max-width: 0;overflow: hidden;text-align: left;background-color: #f0f8ff;}#sk-container-id-1 div.sk-toggleable__content pre {margin: 0.2em;color: black;border-radius: 0.25em;background-color: #f0f8ff;}#sk-container-id-1 input.sk-toggleable__control:checked~div.sk-toggleable__content {max-height: 200px;max-width: 100%;overflow: auto;}#sk-container-id-1 input.sk-toggleable__control:checked~label.sk-toggleable__label-arrow:before {content: \"▾\";}#sk-container-id-1 div.sk-estimator input.sk-toggleable__control:checked~label.sk-toggleable__label {background-color: #d4ebff;}#sk-container-id-1 div.sk-label input.sk-toggleable__control:checked~label.sk-toggleable__label {background-color: #d4ebff;}#sk-container-id-1 input.sk-hidden--visually {border: 0;clip: rect(1px 1px 1px 1px);clip: rect(1px, 1px, 1px, 1px);height: 1px;margin: -1px;overflow: hidden;padding: 0;position: absolute;width: 1px;}#sk-container-id-1 div.sk-estimator {font-family: monospace;background-color: #f0f8ff;border: 1px dotted black;border-radius: 0.25em;box-sizing: border-box;margin-bottom: 0.5em;}#sk-container-id-1 div.sk-estimator:hover {background-color: #d4ebff;}#sk-container-id-1 div.sk-parallel-item::after {content: \"\";width: 100%;border-bottom: 1px solid gray;flex-grow: 1;}#sk-container-id-1 div.sk-label:hover label.sk-toggleable__label {background-color: #d4ebff;}#sk-container-id-1 div.sk-serial::before {content: \"\";position: absolute;border-left: 1px solid gray;box-sizing: border-box;top: 0;bottom: 0;left: 50%;z-index: 0;}#sk-container-id-1 div.sk-serial {display: flex;flex-direction: column;align-items: center;background-color: white;padding-right: 0.2em;padding-left: 0.2em;position: relative;}#sk-container-id-1 div.sk-item {position: relative;z-index: 1;}#sk-container-id-1 div.sk-parallel {display: flex;align-items: stretch;justify-content: center;background-color: white;position: relative;}#sk-container-id-1 div.sk-item::before, #sk-container-id-1 div.sk-parallel-item::before {content: \"\";position: absolute;border-left: 1px solid gray;box-sizing: border-box;top: 0;bottom: 0;left: 50%;z-index: -1;}#sk-container-id-1 div.sk-parallel-item {display: flex;flex-direction: column;z-index: 1;position: relative;background-color: white;}#sk-container-id-1 div.sk-parallel-item:first-child::after {align-self: flex-end;width: 50%;}#sk-container-id-1 div.sk-parallel-item:last-child::after {align-self: flex-start;width: 50%;}#sk-container-id-1 div.sk-parallel-item:only-child::after {width: 0;}#sk-container-id-1 div.sk-dashed-wrapped {border: 1px dashed gray;margin: 0 0.4em 0.5em 0.4em;box-sizing: border-box;padding-bottom: 0.4em;background-color: white;}#sk-container-id-1 div.sk-label label {font-family: monospace;font-weight: bold;display: inline-block;line-height: 1.2em;}#sk-container-id-1 div.sk-label-container {text-align: center;}#sk-container-id-1 div.sk-container {/* jupyter's `normalize.less` sets `[hidden] { display: none; }` but bootstrap.min.css set `[hidden] { display: none !important; }` so we also need the `!important` here to be able to override the default hidden behavior on the sphinx rendered scikit-learn.org. See: https://github.com/scikit-learn/scikit-learn/issues/21755 */display: inline-block !important;position: relative;}#sk-container-id-1 div.sk-text-repr-fallback {display: none;}</style><div id=\"sk-container-id-1\" class=\"sk-top-container\"><div class=\"sk-text-repr-fallback\"><pre>GridSearchCV(cv=5, estimator=RandomForestRegressor(random_state=200), n_jobs=5,\n",
       "             param_grid={&#x27;max_features&#x27;: [6, 7, 8, 9],\n",
       "                         &#x27;min_samples_leaf&#x27;: [5, 10, 15, 20]})</pre><b>In a Jupyter environment, please rerun this cell to show the HTML representation or trust the notebook. <br />On GitHub, the HTML representation is unable to render, please try loading this page with nbviewer.org.</b></div><div class=\"sk-container\" hidden><div class=\"sk-item sk-dashed-wrapped\"><div class=\"sk-label-container\"><div class=\"sk-label sk-toggleable\"><input class=\"sk-toggleable__control sk-hidden--visually\" id=\"sk-estimator-id-1\" type=\"checkbox\" ><label for=\"sk-estimator-id-1\" class=\"sk-toggleable__label sk-toggleable__label-arrow\">GridSearchCV</label><div class=\"sk-toggleable__content\"><pre>GridSearchCV(cv=5, estimator=RandomForestRegressor(random_state=200), n_jobs=5,\n",
       "             param_grid={&#x27;max_features&#x27;: [6, 7, 8, 9],\n",
       "                         &#x27;min_samples_leaf&#x27;: [5, 10, 15, 20]})</pre></div></div></div><div class=\"sk-parallel\"><div class=\"sk-parallel-item\"><div class=\"sk-item\"><div class=\"sk-label-container\"><div class=\"sk-label sk-toggleable\"><input class=\"sk-toggleable__control sk-hidden--visually\" id=\"sk-estimator-id-2\" type=\"checkbox\" ><label for=\"sk-estimator-id-2\" class=\"sk-toggleable__label sk-toggleable__label-arrow\">estimator: RandomForestRegressor</label><div class=\"sk-toggleable__content\"><pre>RandomForestRegressor(random_state=200)</pre></div></div></div><div class=\"sk-serial\"><div class=\"sk-item\"><div class=\"sk-estimator sk-toggleable\"><input class=\"sk-toggleable__control sk-hidden--visually\" id=\"sk-estimator-id-3\" type=\"checkbox\" ><label for=\"sk-estimator-id-3\" class=\"sk-toggleable__label sk-toggleable__label-arrow\">RandomForestRegressor</label><div class=\"sk-toggleable__content\"><pre>RandomForestRegressor(random_state=200)</pre></div></div></div></div></div></div></div></div></div></div>"
      ],
      "text/plain": [
       "GridSearchCV(cv=5, estimator=RandomForestRegressor(random_state=200), n_jobs=5,\n",
       "             param_grid={'max_features': [6, 7, 8, 9],\n",
       "                         'min_samples_leaf': [5, 10, 15, 20]})"
      ]
     },
     "execution_count": 8,
     "metadata": {},
     "output_type": "execute_result"
    }
   ],
   "source": [
    "#Splitting the data into the independent and dependent variables from IndData['trainData]\n",
    "X_train_spatial = IndData['trainData'].drop(columns=['y'])\n",
    "y_train_spatial = IndData['trainData']['y']\n",
    "\n",
    "\n",
    "#Random Foreset \n",
    "rf_spatial = RandomForestRegressor(random_state = 200)\n",
    "\n",
    "param_grid = {\n",
    "    'max_features': [6,7,8,9],\n",
    "    'min_samples_leaf': [5,10,15,20]\n",
    "}\n",
    "\n",
    "# Instantiate the grid search model\n",
    "grid_search = GridSearchCV(estimator = rf_spatial, param_grid = param_grid, \n",
    "                          cv = 5, n_jobs = 5)\n",
    "\n",
    "grid_search.fit(X_train_spatial, y_train_spatial)"
   ]
  },
  {
   "cell_type": "code",
   "execution_count": 9,
   "metadata": {},
   "outputs": [
    {
     "name": "stdout",
     "output_type": "stream",
     "text": [
      "Root Mean Square Error:\n",
      "\n",
      "0.07099065007691685\n"
     ]
    }
   ],
   "source": [
    "#Random Forest Model hyperparameters \n",
    "rf_spatial_fit = RandomForestRegressor(**grid_search.best_params_).fit(X_train_spatial,y_train_spatial)\n",
    "\n",
    "#Predicting the test data\n",
    "X_test = IndData['testData']\n",
    "\n",
    "y_pred = rf_spatial_fit.predict(X_test)\n",
    "\n",
    "#convert the prediceted values back to spatial\n",
    "y_pred_spatial = transformer.back_transform_to_spatial(y_pred,IndData)\n",
    "\n",
    "import math\n",
    "MSE = np.square(np.subtract(testData['y'],y_pred_spatial)).mean() \n",
    " \n",
    "RMSE = math.sqrt(MSE)\n",
    "print(\"Root Mean Square Error:\\n\")\n",
    "print(RMSE)"
   ]
  }
 ],
 "metadata": {
  "kernelspec": {
   "display_name": "Python 3",
   "language": "python",
   "name": "python3"
  },
  "language_info": {
   "codemirror_mode": {
    "name": "ipython",
    "version": 3
   },
   "file_extension": ".py",
   "mimetype": "text/x-python",
   "name": "python",
   "nbconvert_exporter": "python",
   "pygments_lexer": "ipython3",
   "version": "3.10.11"
  }
 },
 "nbformat": 4,
 "nbformat_minor": 2
}
